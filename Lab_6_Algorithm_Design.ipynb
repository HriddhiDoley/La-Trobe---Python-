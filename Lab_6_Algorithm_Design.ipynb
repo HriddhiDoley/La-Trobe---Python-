{
  "nbformat": 4,
  "nbformat_minor": 0,
  "metadata": {
    "colab": {
      "provenance": [],
      "collapsed_sections": [
        "jQ_qKzyRp0_d",
        "_xkwTuNap3wy",
        "57EwRHeuwEKz",
        "xcJSiWK4zk73",
        "6rXEYBGk1zoC",
        "lG7582H935OG"
      ],
      "toc_visible": true
    },
    "kernelspec": {
      "name": "python3",
      "display_name": "Python 3"
    }
  },
  "cells": [
    {
      "cell_type": "markdown",
      "metadata": {
        "id": "8Ok1AHh5ia0H"
      },
      "source": [
        "# Lab 6 - Algorithm Design\n",
        "In this final lab we will solve the most difficult problems yet while discussing techniques to help solve them. If you take your time and follow the instructions closely, you'll come out the other side with greater programming confidence."
      ]
    },
    {
      "cell_type": "markdown",
      "metadata": {
        "id": "JvsyVRr6puMP"
      },
      "source": [
        "## Programming Exercises"
      ]
    },
    {
      "cell_type": "markdown",
      "metadata": {
        "id": "mdOO9gKNpzS_"
      },
      "source": [
        "### Number Guessing Bot\n",
        "In a previous lab we coded a number guessing game, where the computer picks a random number between 1 and 20 and it's the user's job to guess it. With each wrong guess, the computer says whether the guessed number is too high or too low.\n",
        "\n",
        "For this task you are to write a bot which guesses the number for you, arriving at the correct number in the fewest possible guesses. The variables `too_low` and `too_high` are updated after each incorrect guess to keep track of the computer's responses. \\\n",
        "I.e. the number $x$ which the computer picked always satisfies `too_low` $< x <$ `too_high`.\n",
        "\n",
        "The `bot_guess` function is already implemented, but it's not a very smart bot -  it always guesses that the computer's number is one greater than the lower-bound of possible values. Thus, if the computer picks the number 20, it will guess 1, then 2, then 3, and so on, taking 20 guesses to get the right answer!\n",
        "\n",
        "Improve the `bot_guess` function so that it arrives at the correct number as quickly as possible, then run the program and look at the output. The program should take **at most** 5 guesses* to get the correct answer. If the program doesn't stop running due to a bug, you may need to manually stop execution with the stop button to the left.\n",
        "\n",
        "_Hint: You might like to take some inspiration from binary search, which divides the problem in half with each iteration._\n",
        "\n",
        "_*This is because $\\lceil log_2(20) \\rceil = 5$_"
      ]
    },
    {
      "cell_type": "code",
      "metadata": {
        "id": "mmi-zmLcHtrT",
        "outputId": "5259e999-e9ec-431f-a401-ee32a149bb50",
        "colab": {
          "base_uri": "https://localhost:8080/"
        }
      },
      "source": [
        "import random\n",
        "\n",
        "def bot_guess(too_low, too_high):\n",
        "    # Write your better bot logic here\n",
        "    return (too_low + too_high)//2\n",
        "\n",
        "\n",
        "number_to_guess = random.randint(1, 20)\n",
        "print(f'number to guess:{number_to_guess}')\n",
        "\n",
        "# Initial low/high values\n",
        "too_low = 0\n",
        "too_high = 21\n",
        "\n",
        "guess = -1\n",
        "while guess != number_to_guess:\n",
        "    # Get a bot guess\n",
        "    guess = bot_guess(too_low, too_high)\n",
        "\n",
        "    # Report whether the guess was too low or high\n",
        "    if guess < number_to_guess:\n",
        "        print(f'{guess} is too low!')\n",
        "        too_low = guess\n",
        "    elif guess > number_to_guess:\n",
        "        print(f'{guess} is too high!')\n",
        "        too_high = guess\n",
        "\n",
        "print('You got it!')"
      ],
      "execution_count": 4,
      "outputs": [
        {
          "output_type": "stream",
          "name": "stdout",
          "text": [
            "number to guess:8\n",
            "10 is too high!\n",
            "5 is too low!\n",
            "7 is too low!\n",
            "You got it!\n"
          ]
        }
      ]
    },
    {
      "cell_type": "markdown",
      "metadata": {
        "id": "jQ_qKzyRp0_d"
      },
      "source": [
        "###### Solution"
      ]
    },
    {
      "cell_type": "markdown",
      "metadata": {
        "id": "Sr_vsc5fU1aJ"
      },
      "source": [
        "The optimal algorithm is to always guess the number halfway between the two ends of possible numbers. You may have already known this solution intiuitively, without even thinking about binary search.\n",
        "Employing this strategy means that being told \"too high\" or \"too low\" allows you to discount half of the possible numbers and deal with a problem that's half the size.\n",
        "\n",
        "Binary search does the same thing when looking for a value in a sorted list. After looking at a value, the binary search algorithm is able to discount one half of the list and consider only the other half.\n",
        "\n",
        "_Note: As we're guessing integer values, we used floor division to produce an integer guess._"
      ]
    },
    {
      "cell_type": "code",
      "metadata": {
        "id": "k_Bh7c2Kp1tL"
      },
      "source": [
        "def bot_guess(too_low, too_high):\n",
        "    return (too_low + too_high) // 2"
      ],
      "execution_count": null,
      "outputs": []
    },
    {
      "cell_type": "markdown",
      "metadata": {
        "id": "Ju_SIF_rp3ww"
      },
      "source": [
        "### The Factorial Function\n",
        "In mathematics, the factorial is the result of multiplying all whole numbers from a given number down to 1, and is represented by an exclamation mark (!). \\\n",
        "For example: $4! = 4 \\times 3 \\times 2 \\times 1 = 24$\n",
        "\n",
        "Below we have an _iterative_ version of this function implemented using a `for` loop. This function loops from `n` to `1`, performing the multiplication as required. Read through the function and ensure you understand how it works.\n",
        "\n",
        "_Recall that the `-1` given to the `range` function means that it counts down rather than up._"
      ]
    },
    {
      "cell_type": "code",
      "metadata": {
        "id": "iQFyT-Lqp3wx"
      },
      "source": [
        "def iterative_factorial(n):\n",
        "    result = 1\n",
        "    for num in range(n, 0, -1):\n",
        "        result *= num\n",
        "    return result\n",
        "\n",
        "print(iterative_factorial(4))"
      ],
      "execution_count": null,
      "outputs": []
    },
    {
      "cell_type": "markdown",
      "metadata": {
        "id": "XU7p0x40bwIV"
      },
      "source": [
        "#### Recursion\n",
        "For this task you are to implement a _recursive_ version of this function called `recursive_factorial`, which computes the same value using _recursion_. It might be worthwhile reviewing the \"Recursion\" section of the workbook before continuing.\n",
        "\n",
        "When designing a recursive solution to a problem, there are two principal things to consider:\n",
        "\n",
        "#### Self Similarity\n",
        "Problems solved by recursion always have some self-similar component. For example, printing my descendants in a family tree could be described as follows:\n",
        " - Print my name\n",
        " - Print each of my children's names\n",
        " - Print each of my children's children's names\n",
        " - Print each of my children's children's children's names\n",
        " - ...\n",
        "\n",
        "It's clear that there's this task has a repeating nature. If we were to write this recursively in code, it might look like this:\n",
        "```python\n",
        "def print_descendants(person):\n",
        "    print(person.name)\n",
        "    for child in person.children:\n",
        "        print_descendants(child)\n",
        "\n",
        "print_descendants(me)\n",
        "```\n",
        "\n",
        "This implementation takes advantage of the fact that the descendants of a person are made up of their children, and their children's descendants. Thus instead of explicitly considering grandchildren, great-grandchildren, etc., the solution defines how to print a single generation, and repeats this process for each successive generation.\n",
        "\n",
        "#### The Base Case\n",
        "The base case (or \"stop condition\") is where the recursive nature of a problem stops. In the family tree example from above, the base case would be where someone has no children. Thus we would update the function to explicitly handle this case:\n",
        "```python\n",
        "def print_descendants(person):\n",
        "    print(person.name)\n",
        "    if len(children) == 0:\n",
        "        return\n",
        "    for child in person.children:\n",
        "        print_descendants(child)\n",
        "\n",
        "print_descendants(me)\n",
        "```\n",
        "\n",
        "### The Factorial Function\n",
        "Let's now apply these two concepts to the factorial problem. What is the self-similar aspect of the factorial function? Let's take another look at the example from before. Given that\n",
        "$$\\begin{aligned}\n",
        "4! &= 4 \\times 3 \\times 2 \\times 1 \\\\\n",
        "&\\text{and} \\\\\n",
        "3! &= 3 \\times 2 \\times 1 \\\\\n",
        "&\\text{then} \\\\\n",
        "4! &= 4 \\times 3! \\\\\n",
        "\\end{aligned}$$\n",
        "\n",
        "This subsitution demonstrates the self-similarity of the factorial function. If we wish to find the factorial of $4$, we calculate the factorial of $3$, and multiply it by $4$. \\\n",
        "Similarly, to find the factorial of $3$, we calculate the factorial of $2$, and multiply it by $3$, and so on. Thus we can find the factorial of a number by starting at $n$ and working our way down.\n",
        "\n",
        "But where does it end? Every recursive function requires a base case to trigger its completion. Based on the definition of the factorial function, we can say that the base case is when $n = 1$; as it's not possible to divide the problem any further, we use the mathematical definition that $1! = 1$.\n",
        "\n",
        "Now that you've read that wall of text, it's time to do some coding! You are to implement the `recursive_factorial` function below, then run it to check it for correctness.\n",
        "\n",
        "_Hint: Ensure that you handle the base case so that it doesn't continue forever._"
      ]
    },
    {
      "cell_type": "code",
      "metadata": {
        "id": "MP7oUHb-pZkC"
      },
      "source": [
        "def recursive_factorial(n):\n",
        "    # Write your solution here\n",
        "\n",
        "\n",
        "print(recursive_factorial(4))\n",
        "\n",
        "# Run some test cases - uncomment it when you're ready\n",
        "# for n in range(1, 10):\n",
        "#     print(iterative_factorial(n) == recursive_factorial(n))"
      ],
      "execution_count": null,
      "outputs": []
    },
    {
      "cell_type": "markdown",
      "metadata": {
        "id": "_xkwTuNap3wy"
      },
      "source": [
        "###### Solution"
      ]
    },
    {
      "cell_type": "markdown",
      "metadata": {
        "id": "PBBOVSsAp3wy"
      },
      "source": [
        "The beauty of recursive functions is that although they can be quite hard to design, the end result is often very simple."
      ]
    },
    {
      "cell_type": "code",
      "metadata": {
        "id": "P5TT8ZAqp3wz"
      },
      "source": [
        "def recursive_factorial(n):\n",
        "    if n == 1:\n",
        "        return 1\n",
        "    return n * recursive_factorial(n - 1)"
      ],
      "execution_count": null,
      "outputs": []
    },
    {
      "cell_type": "markdown",
      "metadata": {
        "id": "aswNDb-usj4M"
      },
      "source": [
        "Take a moment and manually trace the code for a small value of $n$. It may help to write out something like the below so you don't lose your place.\n",
        "\n",
        "```\n",
        "factorial(4) = 4 * factorial(3)\n",
        "             = 4 * 3 * factorial(2)\n",
        "             = 4 * 3 * 2 * factorial(1)\n",
        "             = 4 * 3 * 2 * 1\n",
        "             = 24\n",
        "```"
      ]
    },
    {
      "cell_type": "markdown",
      "metadata": {
        "id": "7X1Fd9G4p4NO"
      },
      "source": [
        "### Bubble Sort\n",
        "For our final, challenging task, we're going to implement a sorting algorithm. There are many to choose from, so we will choose the simplest and most intuitive - bubble sort. Although Python provides a built-in method called `sort`, we will implement it from scratch for the sake of learning. This is arguably our most challenging task yet, so be patient and don't be hard on yourself - you're here to learn!\n",
        "\n",
        "#### How does it work?\n",
        "Imagine that you have school children standing in a row, and you want to sort them in ascending order of height from left to right. The bubble sort solution is this:\n",
        " 1. Stand in front of the first two children.\n",
        " 2. If the child on the left is bigger, swap them.\n",
        " 3. Take a step to the right so you're looking at the second and third child.\n",
        " 4. If the child on the left is bigger, swap them.\n",
        " 5. Take a step to the right so you're looking at the third and fourth child.\n",
        " 6. ...\n",
        "\n",
        "When you've reached the end of the row of children, you will have the tallest student in the last position. However, none of the other students will be ordered. So, you return to the beginning of the line and perform the steps again. This will move the second-tallest student to the second-last position.\n",
        "\n",
        "This process is repeated until you walk down the entire row without swapping any students. This algorithm gets its name from the fact that the tallest students float towards the end of the row like bubbles to the surface of water.\n",
        "\n",
        "Although this might sound like a difficult algorithm to implement, if we break it into discrete steps it becomes far more manageable."
      ]
    },
    {
      "cell_type": "markdown",
      "metadata": {
        "id": "BDbaObmHv9R8"
      },
      "source": [
        "#### Swapping Items in a List\n",
        "As our solution requires us to swap items in a list, we'll begin by writing a function to do so. In its current state, the function below doesn't work - can you tell what's wrong? Fix the function and run it to check that it's correct.\n",
        "\n",
        "_Hint: there's a reason that the value 3 is duplicated - perhaps try tracing it manually._"
      ]
    },
    {
      "cell_type": "code",
      "metadata": {
        "id": "6W1C1c3IwCuk"
      },
      "source": [
        "def swap(arr, index_1, index_2):\n",
        "    # Fix this function\n",
        "    arr[index_1] = arr[index_2]\n",
        "    arr[index_2] = arr[index_1]\n",
        "\n",
        "\n",
        "my_list = [5, 2, 6, 1, 3, 4]\n",
        "swap(my_list, 2, 4)\n",
        "print(my_list)  # Should be [5, 2, 3, 1, 6, 4]"
      ],
      "execution_count": null,
      "outputs": []
    },
    {
      "cell_type": "markdown",
      "metadata": {
        "id": "57EwRHeuwEKz"
      },
      "source": [
        "###### Solution"
      ]
    },
    {
      "cell_type": "markdown",
      "metadata": {
        "id": "COrRn7eOwFI8"
      },
      "source": [
        "As the first line in the function was replacing the value at `index_1`, we lost the original value and weren't able to copy it back. Thus, we needed a temporary variable to hold its value."
      ]
    },
    {
      "cell_type": "code",
      "metadata": {
        "id": "3MXLHjcnwFsk"
      },
      "source": [
        "def swap(arr, index_1, index_2):\n",
        "    temp = arr[index_1]\n",
        "    arr[index_1] = arr[index_2]\n",
        "    arr[index_2] = temp"
      ],
      "execution_count": null,
      "outputs": []
    },
    {
      "cell_type": "markdown",
      "metadata": {
        "id": "R6vs5NdkxzKs"
      },
      "source": [
        "#### Iterating\n",
        "We will need to step through the list, comparing two adjacent elements at a time. We're quite familiar with iterating over each element in a list, but how does it change when looking at two at a time?\n",
        "\n",
        "A few hints:\n",
        " - You will need to use the `range` function.\n",
        " - The range function will represent the location of the \"left\" value at each iteration.\n",
        " - What value should you give to `range` so that you don't \"go over the edge\" of the list?"
      ]
    },
    {
      "cell_type": "code",
      "metadata": {
        "id": "a0xEb-kjyaPe"
      },
      "source": [
        "my_list = [5, 2, 6, 1, 3, 4]\n",
        "\n",
        "# Write code to iterate over and print each pair of adjacent values\n",
        "\n",
        "\n",
        "# Your solution should print:\n",
        "# 5 2\n",
        "# 2 6\n",
        "# 6 1\n",
        "# 1 3\n",
        "# 3 4"
      ],
      "execution_count": null,
      "outputs": []
    },
    {
      "cell_type": "markdown",
      "metadata": {
        "id": "xcJSiWK4zk73"
      },
      "source": [
        "###### Solution"
      ]
    },
    {
      "cell_type": "markdown",
      "metadata": {
        "id": "0fsvMgs3zl8q"
      },
      "source": [
        "The variable `i` in the solution goes from `0` to `len(my_list) - 2`, which is the index of the \"left\" value at each iteration. Thus adding 1 to that index gives us the index of the \"right\" value."
      ]
    },
    {
      "cell_type": "code",
      "metadata": {
        "id": "T4I5o5IvzmaY"
      },
      "source": [
        "for i in range(len(my_list) -  1):\n",
        "    print(my_list[i], my_list[i + 1])"
      ],
      "execution_count": null,
      "outputs": []
    },
    {
      "cell_type": "markdown",
      "metadata": {
        "id": "N2hOhymyvJ7C"
      },
      "source": [
        "#### Bubbling\n",
        "We know how to step through the list, and we know how to swap elements. If we combine these two, we can address the \"bubbling\" aspect of the algorithm, and move the largest value to the end of the list.\n",
        "\n",
        "You are to write code in the below cell which iterates over each adjacent pair in the list, and at each iteration, swaps them if the element on the left is larger. If your solution is correct, the largest value (6) should be at the end of the list.\n",
        "\n",
        "\n",
        "_Hint: It's only two lines of code - you need to check if the elements are out of order, and call your `swap` function if so._"
      ]
    },
    {
      "cell_type": "code",
      "metadata": {
        "id": "7KBUzgm1-0rC"
      },
      "source": [
        "my_list = [5, 2, 6, 1, 3, 4]\n",
        "\n",
        "for i in range(len(my_list) -  1):\n",
        "    # Write code which swaps the two if the left element is larger\n",
        "\n",
        "\n",
        "print(my_list) # Should be [2, 5, 1, 3, 4, 6]"
      ],
      "execution_count": null,
      "outputs": []
    },
    {
      "cell_type": "markdown",
      "metadata": {
        "id": "6rXEYBGk1zoC"
      },
      "source": [
        "###### Solution"
      ]
    },
    {
      "cell_type": "markdown",
      "metadata": {
        "id": "1N5uPF1a10xh"
      },
      "source": [
        "When we look at only the two new lines of code, it's actually quite simple! We have done all of these things before, just not in such a complex way."
      ]
    },
    {
      "cell_type": "code",
      "metadata": {
        "id": "LP7-b-zG_DsI"
      },
      "source": [
        "my_list = [5, 2, 6, 1, 3, 4]\n",
        "\n",
        "for i in range(len(my_list) -  1):\n",
        "    if my_list[i] > my_list[i + 1]:\n",
        "        swap(my_list, i, i + 1)\n",
        "\n",
        "print(my_list)"
      ],
      "execution_count": null,
      "outputs": []
    },
    {
      "cell_type": "markdown",
      "metadata": {
        "id": "nGhOr9th2bPa"
      },
      "source": [
        "#### Checking for Swaps\n",
        "The bulk of our algorithm is already complete. Actually, if we run the same code a few times on the list, it will be sorted:"
      ]
    },
    {
      "cell_type": "code",
      "metadata": {
        "id": "Qv2h46mZ2ngy"
      },
      "source": [
        "my_list = [5, 2, 6, 1, 3, 4]\n",
        "\n",
        "for i in range(len(my_list) -  1):\n",
        "    if my_list[i] > my_list[i + 1]:\n",
        "        swap(my_list, i, i + 1)\n",
        "for i in range(len(my_list) -  1):\n",
        "    if my_list[i] > my_list[i + 1]:\n",
        "        swap(my_list, i, i + 1)\n",
        "for i in range(len(my_list) -  1):\n",
        "    if my_list[i] > my_list[i + 1]:\n",
        "        swap(my_list, i, i + 1)\n",
        "\n",
        "print(my_list)"
      ],
      "execution_count": null,
      "outputs": []
    },
    {
      "cell_type": "markdown",
      "metadata": {
        "id": "HoAKwyl_2vOg"
      },
      "source": [
        "Pretty nice! However, we can see that this duplicated code is a bad practice. Worse yet, if the list were longer or more out of order, we would need to run that code more times to sort it. (Try running the previous cell with `[6, 5, 4, 3, 2, 1]` and see what happens!)\n",
        "\n",
        "Recall from the student-sorting example, where we repeatedly walked up and down the line until no students were swapped - that's the part we're missing.\n",
        "\n",
        "In the below cell we have a boolean variable called `swapped` which is always `False`. Modify the code so that it's set to true if any elements were swapped. Run your solution with both a sorted and an unsorted list to ensure that it works correctly."
      ]
    },
    {
      "cell_type": "code",
      "metadata": {
        "id": "ruaTGl9c_cYS"
      },
      "source": [
        "my_list = [5, 2, 6, 1, 3, 4]\n",
        "# my_list = [1, 2, 3, 4, 5, 6] # A sorted list. Uncomment this line to try it\n",
        "\n",
        "# Set swapped to True if any elements are swapped. Where do you put this logic?\n",
        "\n",
        "swapped = False\n",
        "for i in range(len(my_list) -  1):\n",
        "    if my_list[i] > my_list[i + 1]:\n",
        "        swap(my_list, i, i + 1)\n",
        "\n",
        "print(my_list)\n",
        "print(swapped)"
      ],
      "execution_count": null,
      "outputs": []
    },
    {
      "cell_type": "markdown",
      "metadata": {
        "id": "lG7582H935OG"
      },
      "source": [
        "###### Solution"
      ]
    },
    {
      "cell_type": "markdown",
      "metadata": {
        "id": "uOeNSWkV37gJ"
      },
      "source": [
        "Once again our program has grown in complexity, but our approach means that we can build it up using simple components that we've seen before."
      ]
    },
    {
      "cell_type": "code",
      "metadata": {
        "id": "0a-5yl9q36o-"
      },
      "source": [
        "my_list = [5, 2, 6, 1, 3, 4]\n",
        "# my_list = [1, 2, 3, 4, 5, 6] # A sorted list. Uncomment this line to try it\n",
        "\n",
        "swapped = False\n",
        "for i in range(len(my_list) -  1):\n",
        "    if my_list[i] > my_list[i + 1]:\n",
        "        swapped = True\n",
        "        swap(my_list, i, i + 1)\n",
        "\n",
        "print(my_list)\n",
        "print(swapped)"
      ],
      "execution_count": null,
      "outputs": []
    },
    {
      "cell_type": "markdown",
      "metadata": {
        "id": "R9t_Hg3e4i9a"
      },
      "source": [
        "#### Sorting\n",
        "How does you know when to stop walking up and down the row of students? When you have walked from the start to the finish of the row without swapping any students. We already have a variable to keep track of this, so we simply need to repeat our code until that variable is set to False. We will do so with a `while` loop.\n",
        "\n",
        "Modify the code in the next cell so that we repeat our code so long as `swapped` is `True`. Then run it and see what happens.\n",
        "\n",
        "_Spoiler: It doesn't work. If it does, try running it again!_"
      ]
    },
    {
      "cell_type": "code",
      "metadata": {
        "id": "YIpsdOOW_4rl"
      },
      "source": [
        "my_list = [5, 2, 6, 1, 3, 4]\n",
        "\n",
        "# Add a loop around this part of the code.\n",
        "swapped = False\n",
        "for i in range(len(my_list) -  1):\n",
        "    if my_list[i] > my_list[i + 1]:\n",
        "        swapped = True\n",
        "        swap(my_list, i, i + 1)\n",
        "\n",
        "print(my_list)"
      ],
      "execution_count": null,
      "outputs": []
    },
    {
      "cell_type": "markdown",
      "metadata": {
        "id": "UEa-Dj-I6UTB"
      },
      "source": [
        "What happened? In order to enter the `while` loop for the first time, we require that `swapped` is `True`. On the line before the while loop, set the value of `swapped` to `True` and run it again.\n",
        "\n",
        "If it works, then congratulations! 🎉 🥳 You have just implemented a difficult algorithm!\n",
        "\n",
        "If not, no worries - the solution is just below."
      ]
    },
    {
      "cell_type": "markdown",
      "metadata": {
        "id": "kIvp2PXSp4NP"
      },
      "source": [
        "###### Solution"
      ]
    },
    {
      "cell_type": "markdown",
      "metadata": {
        "id": "05Zdhpp1p4NP"
      },
      "source": [
        "If you were to look at the contents of the below cell at the start of this lab, you might not have understood much of the code. Now - thanks to breaking the problem down into more manageable pieces - you have built a complex program which performs a difficult task.\n",
        "\n",
        "This is the approach that seasoned programmers take - look for smaller problems contained within the large problem, then address them piece-by-piece. Whenever one of those pieces looks similar to a previously-solved task, reframe the problem and solve it within that context."
      ]
    },
    {
      "cell_type": "code",
      "metadata": {
        "id": "R6lobgkXp4NP"
      },
      "source": [
        "my_list = [5, 2, 6, 1, 3, 4]\n",
        "\n",
        "swapped = True\n",
        "while swapped:\n",
        "    swapped = False\n",
        "    for i in range(len(my_list) -  1):\n",
        "        if my_list[i] > my_list[i + 1]:\n",
        "            swapped = True\n",
        "            swap(my_list, i, i + 1)\n",
        "\n",
        "print(my_list)"
      ],
      "execution_count": null,
      "outputs": []
    },
    {
      "cell_type": "markdown",
      "metadata": {
        "id": "4SXuQfhdp49e"
      },
      "source": [
        "## Bonus Tasks\n",
        "Two final tasks to end the labs. If you've come this far, don't give up now!"
      ]
    },
    {
      "cell_type": "markdown",
      "metadata": {
        "id": "q7o9IYnUKh81"
      },
      "source": [
        "### Optimised Bubble Sort\n",
        "Our bubble sort implementation is good, but it could be better - can you think how?\n",
        "\n",
        "Think about this:\n",
        " - After the first iteration the greatest value is guaranteed to be in the last position.\n",
        " - After the second iteration the greatest value is guaranteed to be in the second-last position.\n",
        " - ...\n",
        "\n",
        "We could take advantage of this knowledge by performing one less comparison during each pass. Modify the bubble sort implementation in the next cell so that the minimum number of required comparisons is performed.\n",
        "\n",
        "_Hint: this will mean using an extra variable, and using this variable in the `range` function._"
      ]
    },
    {
      "cell_type": "code",
      "metadata": {
        "id": "FThW91umNAN-"
      },
      "source": [
        "my_list = [5, 2, 6, 1, 3, 4]\n",
        "\n",
        "# Modify this code to minimise the number of comparisons\n",
        "swapped = True\n",
        "while swapped:\n",
        "    swapped = False\n",
        "    for i in range(len(my_list) -  1):\n",
        "        if my_list[i] > my_list[i + 1]:\n",
        "            swapped = True\n",
        "            swap(my_list, i, i + 1)\n",
        "\n",
        "print(my_list)"
      ],
      "execution_count": null,
      "outputs": []
    },
    {
      "cell_type": "markdown",
      "metadata": {
        "id": "Yjc_Ty8ap4QY"
      },
      "source": [
        "### Sorting with Keys\n",
        "Our sorting code only works for elements that can be compared with the less-than operator (<). Python's (more powerful) `sort` method allows us to sort using any \"key\" that we like.\n",
        "\n",
        "Referring to the \"Sorting by a Key\" section of the workbook, write some code to sort the list of employees by their weekly pay using Python's built-in `sort` method. This will require defining a function called `get_weekly_pay`, and passing that function as an argument to the sort method."
      ]
    },
    {
      "cell_type": "code",
      "metadata": {
        "id": "wRVsli6jp4Qa"
      },
      "source": [
        "class Employee:\n",
        "    def __init__(self, name, hourly_rate, hours_per_week):\n",
        "        self.name = name\n",
        "        self.hourly_rate = hourly_rate\n",
        "        self.hours_per_week = hours_per_week\n",
        "\n",
        "\n",
        "# Implement a function called get_weekly_pay\n",
        "\n",
        "\n",
        "employees = [\n",
        "    Employee('Alice', 33.5, 32),\n",
        "    Employee('Bob', 26, 37),\n",
        "    Employee('Charlie', 39, 27)\n",
        "]\n",
        "\n",
        "# Sort the list\n",
        "\n",
        "\n",
        "print(f'Lowest paid: {employees[0].name}')\n",
        "print(f'Highest paid: {employees[-1].name}')"
      ],
      "execution_count": null,
      "outputs": []
    }
  ]
}