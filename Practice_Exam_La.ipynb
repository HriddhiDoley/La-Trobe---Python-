{
  "nbformat": 4,
  "nbformat_minor": 0,
  "metadata": {
    "colab": {
      "provenance": [],
      "authorship_tag": "ABX9TyNGpr2kDbTIO5mXAluoqf/0",
      "include_colab_link": true
    },
    "kernelspec": {
      "name": "python3",
      "display_name": "Python 3"
    },
    "language_info": {
      "name": "python"
    }
  },
  "cells": [
    {
      "cell_type": "markdown",
      "metadata": {
        "id": "view-in-github",
        "colab_type": "text"
      },
      "source": [
        "<a href=\"https://colab.research.google.com/github/HriddhiDoley/La-Trobe---Python-/blob/main/Practice_Exam_La.ipynb\" target=\"_parent\"><img src=\"https://colab.research.google.com/assets/colab-badge.svg\" alt=\"Open In Colab\"/></a>"
      ]
    },
    {
      "cell_type": "code",
      "execution_count": null,
      "metadata": {
        "id": "cZo6kDIFw6Sr"
      },
      "outputs": [],
      "source": []
    },
    {
      "cell_type": "markdown",
      "source": [
        "#Topic 1 - Logic and Control Flow\n",
        "\n",
        "* Operator: or, and, not, in , ==, !=, >=, <=\n",
        "* If else\n"
      ],
      "metadata": {
        "id": "LMRvV3SdJAlr"
      }
    },
    {
      "cell_type": "code",
      "source": [
        "# Example\n",
        "\n",
        "number = int(input(\"Enter a number:\"))\n",
        "\n",
        "if number > 0 :\n",
        "  print (f'The number: {number} you entered is positive!')\n",
        "elif number == 0:\n",
        "  print (f'The number: {number} you entered is zero!')\n",
        "else:\n",
        "  print (f'The number: {number} you entered is negative!')\n",
        "\n"
      ],
      "metadata": {
        "colab": {
          "base_uri": "https://localhost:8080/"
        },
        "id": "jo3MTya1JKNR",
        "outputId": "abe9bf09-d148-4aba-a3e7-84b6900c2935"
      },
      "execution_count": 6,
      "outputs": [
        {
          "output_type": "stream",
          "name": "stdout",
          "text": [
            "Enter a number:1\n",
            "The number: 1 you entered is positive!\n"
          ]
        }
      ]
    },
    {
      "cell_type": "markdown",
      "source": [
        "# Topic 2: Iterations\n",
        "* For loop\n",
        "* while loop\n",
        "* Break : Break from the loop\n",
        "* Continue : By pass the all the statement below it and continue with the loop"
      ],
      "metadata": {
        "id": "T9CIAvdsNZHM"
      }
    },
    {
      "cell_type": "code",
      "source": [
        "# interactive loop\n",
        "\n",
        "Flag = True\n",
        "while Flag:\n",
        "  number = int(input(\"Enter a number:\"))\n",
        "\n",
        "  if number > 0 :\n",
        "    print (f'The number: {number} you entered is positive!')\n",
        "  elif number == 0:\n",
        "    print (f'The number: {number} you entered is zero!')\n",
        "    break\n",
        "  else:\n",
        "    print (f'The number: {number} you entered is negative!')\n",
        "    Flag = False"
      ],
      "metadata": {
        "colab": {
          "base_uri": "https://localhost:8080/"
        },
        "id": "yH2aHvg4Nh3J",
        "outputId": "42a904a6-6f6c-4aca-8545-0177d45f043b"
      },
      "execution_count": 8,
      "outputs": [
        {
          "output_type": "stream",
          "name": "stdout",
          "text": [
            "Enter a number:23\n",
            "The number: 23 you entered is positive!\n",
            "Enter a number:1\n",
            "The number: 1 you entered is positive!\n",
            "Enter a number:-1\n",
            "The number: -1 you entered is negative!\n"
          ]
        }
      ]
    },
    {
      "cell_type": "code",
      "source": [
        "# For loop with continue statement\n",
        "\n",
        "\n",
        "products = ['Shirt', 'Pants', 'Jacket']\n",
        "sizes = ['small', 'medium', 'large']\n",
        "\n",
        "for product in products:\n",
        "    if product == 'Shirt':\n",
        "        continue\n",
        "    for size in sizes:\n",
        "        print(product + ' - ' + size)\n",
        ""
      ],
      "metadata": {
        "colab": {
          "base_uri": "https://localhost:8080/"
        },
        "id": "fEBuaDmhO2t9",
        "outputId": "c6bddac3-db77-4958-9700-c71b97962527"
      },
      "execution_count": 18,
      "outputs": [
        {
          "output_type": "stream",
          "name": "stdout",
          "text": [
            "Pants - small\n",
            "Pants - medium\n",
            "Pants - large\n",
            "Jacket - small\n",
            "Jacket - medium\n",
            "Jacket - large\n"
          ]
        }
      ]
    },
    {
      "cell_type": "markdown",
      "source": [
        "# Topic 3 : Functions"
      ],
      "metadata": {
        "id": "_wXilE1qRBgG"
      }
    },
    {
      "cell_type": "code",
      "source": [
        "def num_id(number, msg = 'yes'):\n",
        "  if number > 0 :\n",
        "    print (f'The number: {number} you entered is positive! and message is {msg}')\n",
        "  elif number == 0:\n",
        "    print (f'The number: {number} you entered is zero! and message is {msg}')\n",
        "  else:\n",
        "    print (f'The number: {number} you entered is negative! and message is {msg}')\n",
        "\n",
        "def sum(a,b):\n",
        "  return a+b\n",
        "\n",
        "Flag = True\n",
        "while Flag:\n",
        "  number = int(input(\"Enter a number:\"))\n",
        "  num_id(number, 'No')\n",
        "  #num_id(number)\n",
        "  Flag = input(\"Do you want ot continue:(Y or N)\") == 'Y'\n",
        "  print(sum(1,1))\n",
        "\n",
        ""
      ],
      "metadata": {
        "colab": {
          "base_uri": "https://localhost:8080/"
        },
        "id": "xKh-pZabUO9L",
        "outputId": "f307afa9-64ec-4ebb-f76d-d60dd07f1699"
      },
      "execution_count": 24,
      "outputs": [
        {
          "output_type": "stream",
          "name": "stdout",
          "text": [
            "Enter a number:10\n",
            "The number: 10 you entered is positive! and message is No\n",
            "Do you want ot continue:(Y or N)Y\n",
            "2\n",
            "Enter a number:23\n",
            "The number: 23 you entered is positive! and message is No\n",
            "Do you want ot continue:(Y or N)N\n",
            "2\n"
          ]
        }
      ]
    },
    {
      "cell_type": "markdown",
      "source": [
        "# Topic 4: Classes & Objects\n",
        "\n",
        "Practice a full code from the labs."
      ],
      "metadata": {
        "id": "dVDs8p0oVY24"
      }
    },
    {
      "cell_type": "markdown",
      "source": [
        "#Topic 5 : Files"
      ],
      "metadata": {
        "id": "L_igyydSgAFc"
      }
    },
    {
      "cell_type": "code",
      "source": [
        "# writing to a file\n",
        "'''\n",
        "file = open('readme.txt', 'w')\n",
        "file.write(\"my name is Hriddhi\")\n",
        "file.close()\n",
        "'''\n",
        "\n",
        "# Reading a file\n",
        "\n",
        "try:\n",
        "  with open('readme.txt', 'r') as file:\n",
        "    content = file.read()\n",
        "    print(content)\n",
        "except FileNotFoundError as e:\n",
        "  print(f'Error {e}')\n",
        "#finally:\n",
        " # print(\"hello\")\n",
        "\n",
        "\n",
        "#file1.close()"
      ],
      "metadata": {
        "id": "p_jkloY-oxIy",
        "outputId": "056aea52-0585-452b-c469-5e1457e6d22b",
        "colab": {
          "base_uri": "https://localhost:8080/"
        }
      },
      "execution_count": 6,
      "outputs": [
        {
          "output_type": "stream",
          "name": "stdout",
          "text": [
            "my name is Hriddhi\n"
          ]
        }
      ]
    },
    {
      "cell_type": "code",
      "source": [
        "#Score Board - Leader - Top 3\n",
        "\n",
        "#define the class\n",
        "\n",
        "class ScoreEntry:\n",
        "  def __init__(self, name, score):\n",
        "    self.name = name\n",
        "    self.score = score\n",
        "\n",
        "def get_score(score_entry):\n",
        "  return score_entry.score\n",
        "\n",
        "class ScoreBoard:\n",
        "  def __init__(self):\n",
        "    self.scores = []  # Empty list of objects of type ScoreEntry\n",
        "\n",
        "  def add_score(self, name, score):\n",
        "    new_entry = ScoreEntry(name, score) # convert the score into object type ScoreEntry\n",
        "    self.scores.append(new_entry) # Store the onject in the list.\n",
        "\n",
        "  def print_leadership(self):\n",
        "    self.scores.sort(key = get_score, reverse = True)\n",
        "\n",
        "\n",
        "\n",
        "\n",
        "\n"
      ],
      "metadata": {
        "id": "WbEwP6eLOan8"
      },
      "execution_count": null,
      "outputs": []
    },
    {
      "cell_type": "code",
      "source": [
        "class ScoreEntry:\n",
        "  def __init__(self, name, score):\n",
        "    self.name = name\n",
        "    self.score = score\n",
        "\n",
        "def getscore(scoreentry):\n",
        "  return scoreentry.score\n",
        "\n",
        "class Leaderboard:\n",
        "  def __init__(self):\n",
        "    self.scores = []\n",
        "\n",
        "  def add_entry(self,name, score):\n",
        "    new_entry = ScoreEntry(name, score)\n",
        "    self.scores.append(new_entry)\n",
        "\n",
        "  def leaderboard(self):\n",
        "    self.scores.sort(key = getscore,reverse = True)\n",
        "\n",
        "    for i in self.scores:\n",
        "      print(f\"{i.name}:{i.score}\")\n",
        "\n",
        "    for rank, entry in enumerate(self.scores[:3], start = 1):\n",
        "      print(f\"New: {rank}:{entry.name}:{entry.score}\")\n",
        "\n",
        "  def print_leader_board(self):\n",
        "    for i in self.scores:\n",
        "      print(f\"{i.name}:{i.score}\")\n",
        "\n",
        "Leader = Leaderboard()\n",
        "\n",
        "Leader.add_entry(\"hriddhi\", 20)\n",
        "Leader.add_entry(\"Madhu\", 30)\n",
        "Leader.add_entry(\"Eliana\", 10)\n",
        "Leader.add_entry(\"Arvind\", 40)\n",
        "Leader.add_entry(\"Anu\", 10)\n",
        "\n",
        "Leader.print_leader_board()\n",
        "Leader.leaderboard()"
      ],
      "metadata": {
        "id": "I6jbdFoaSQRR",
        "outputId": "aade4dde-7cc0-4156-c959-254a8a6a85ce",
        "colab": {
          "base_uri": "https://localhost:8080/"
        }
      },
      "execution_count": 19,
      "outputs": [
        {
          "output_type": "stream",
          "name": "stdout",
          "text": [
            "hriddhi:20\n",
            "Madhu:30\n",
            "Eliana:10\n",
            "Arvind:40\n",
            "Anu:10\n",
            "Arvind:40\n",
            "Madhu:30\n",
            "hriddhi:20\n",
            "Eliana:10\n",
            "Anu:10\n",
            "New: 1:Arvind:40\n",
            "New: 2:Madhu:30\n",
            "New: 3:hriddhi:20\n"
          ]
        }
      ]
    }
  ]
}