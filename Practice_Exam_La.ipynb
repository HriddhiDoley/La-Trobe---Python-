{
  "nbformat": 4,
  "nbformat_minor": 0,
  "metadata": {
    "colab": {
      "provenance": [],
      "authorship_tag": "ABX9TyOXHjoqL9SafNbw32TVN8Og",
      "include_colab_link": true
    },
    "kernelspec": {
      "name": "python3",
      "display_name": "Python 3"
    },
    "language_info": {
      "name": "python"
    }
  },
  "cells": [
    {
      "cell_type": "markdown",
      "metadata": {
        "id": "view-in-github",
        "colab_type": "text"
      },
      "source": [
        "<a href=\"https://colab.research.google.com/github/HriddhiDoley/La-Trobe---Python-/blob/main/Practice_Exam_La.ipynb\" target=\"_parent\"><img src=\"https://colab.research.google.com/assets/colab-badge.svg\" alt=\"Open In Colab\"/></a>"
      ]
    },
    {
      "cell_type": "code",
      "execution_count": null,
      "metadata": {
        "id": "cZo6kDIFw6Sr"
      },
      "outputs": [],
      "source": []
    },
    {
      "cell_type": "markdown",
      "source": [
        "#Topic 1 - Logic and Control Flow\n",
        "\n",
        "* Operator: or, and, not, in , ==, !=, >=, <=\n",
        "* If else\n"
      ],
      "metadata": {
        "id": "LMRvV3SdJAlr"
      }
    },
    {
      "cell_type": "code",
      "source": [
        "# Example\n",
        "\n",
        "number = int(input(\"Enter a number:\"))\n",
        "\n",
        "if number > 0 :\n",
        "  print (f'The number: {number} you entered is positive!')\n",
        "elif number == 0:\n",
        "  print (f'The number: {number} you entered is zero!')\n",
        "else:\n",
        "  print (f'The number: {number} you entered is negative!')\n",
        "\n"
      ],
      "metadata": {
        "id": "jo3MTya1JKNR",
        "outputId": "abe9bf09-d148-4aba-a3e7-84b6900c2935",
        "colab": {
          "base_uri": "https://localhost:8080/"
        }
      },
      "execution_count": 6,
      "outputs": [
        {
          "output_type": "stream",
          "name": "stdout",
          "text": [
            "Enter a number:1\n",
            "The number: 1 you entered is positive!\n"
          ]
        }
      ]
    },
    {
      "cell_type": "markdown",
      "source": [
        "# Topic 2: Iterations\n",
        "* For loop\n",
        "* while loop\n",
        "* Break : Break from the loop\n",
        "* Continue : By pass the all the statement below it and continue with the loop"
      ],
      "metadata": {
        "id": "T9CIAvdsNZHM"
      }
    },
    {
      "cell_type": "code",
      "source": [
        "# interactive loop\n",
        "\n",
        "Flag = True\n",
        "while Flag:\n",
        "  number = int(input(\"Enter a number:\"))\n",
        "\n",
        "  if number > 0 :\n",
        "    print (f'The number: {number} you entered is positive!')\n",
        "  elif number == 0:\n",
        "    print (f'The number: {number} you entered is zero!')\n",
        "    break\n",
        "  else:\n",
        "    print (f'The number: {number} you entered is negative!')\n",
        "    Flag = False"
      ],
      "metadata": {
        "id": "yH2aHvg4Nh3J",
        "outputId": "42a904a6-6f6c-4aca-8545-0177d45f043b",
        "colab": {
          "base_uri": "https://localhost:8080/"
        }
      },
      "execution_count": 8,
      "outputs": [
        {
          "output_type": "stream",
          "name": "stdout",
          "text": [
            "Enter a number:23\n",
            "The number: 23 you entered is positive!\n",
            "Enter a number:1\n",
            "The number: 1 you entered is positive!\n",
            "Enter a number:-1\n",
            "The number: -1 you entered is negative!\n"
          ]
        }
      ]
    },
    {
      "cell_type": "code",
      "source": [
        "# For loop with continue statement\n",
        "\n",
        "\n",
        "products = ['Shirt', 'Pants', 'Jacket']\n",
        "sizes = ['small', 'medium', 'large']\n",
        "\n",
        "for product in products:\n",
        "    if product == 'Shirt':\n",
        "        continue\n",
        "    for size in sizes:\n",
        "        print(product + ' - ' + size)\n",
        ""
      ],
      "metadata": {
        "id": "fEBuaDmhO2t9",
        "outputId": "c6bddac3-db77-4958-9700-c71b97962527",
        "colab": {
          "base_uri": "https://localhost:8080/"
        }
      },
      "execution_count": 18,
      "outputs": [
        {
          "output_type": "stream",
          "name": "stdout",
          "text": [
            "Pants - small\n",
            "Pants - medium\n",
            "Pants - large\n",
            "Jacket - small\n",
            "Jacket - medium\n",
            "Jacket - large\n"
          ]
        }
      ]
    },
    {
      "cell_type": "markdown",
      "source": [
        "# Topic 3 :"
      ],
      "metadata": {
        "id": "_wXilE1qRBgG"
      }
    }
  ]
}