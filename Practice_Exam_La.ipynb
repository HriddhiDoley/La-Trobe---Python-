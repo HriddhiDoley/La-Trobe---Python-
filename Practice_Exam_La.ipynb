{
  "nbformat": 4,
  "nbformat_minor": 0,
  "metadata": {
    "colab": {
      "provenance": [],
      "authorship_tag": "ABX9TyNSPrKoB32jVd/4+Kdlk5CH",
      "include_colab_link": true
    },
    "kernelspec": {
      "name": "python3",
      "display_name": "Python 3"
    },
    "language_info": {
      "name": "python"
    }
  },
  "cells": [
    {
      "cell_type": "markdown",
      "metadata": {
        "id": "view-in-github",
        "colab_type": "text"
      },
      "source": [
        "<a href=\"https://colab.research.google.com/github/HriddhiDoley/La-Trobe---Python-/blob/main/Practice_Exam_La.ipynb\" target=\"_parent\"><img src=\"https://colab.research.google.com/assets/colab-badge.svg\" alt=\"Open In Colab\"/></a>"
      ]
    },
    {
      "cell_type": "code",
      "execution_count": null,
      "metadata": {
        "id": "cZo6kDIFw6Sr"
      },
      "outputs": [],
      "source": []
    },
    {
      "cell_type": "markdown",
      "source": [
        "#Topic 1 - Logic and Control Flow\n",
        "\n",
        "* Operator: or, and, not, in , ==, !=, >=, <=\n",
        "* If else\n"
      ],
      "metadata": {
        "id": "LMRvV3SdJAlr"
      }
    },
    {
      "cell_type": "code",
      "source": [
        "# Example\n",
        "\n",
        "number = int(input(\"Enter a number:\"))\n",
        "\n",
        "if number > 0 :\n",
        "  print (f'The number: {number} you entered is positive!')\n",
        "elif number == 0:\n",
        "  print (f'The number: {number} you entered is zero!')\n",
        "else:\n",
        "  print (f'The number: {number} you entered is negative!')\n",
        "\n"
      ],
      "metadata": {
        "colab": {
          "base_uri": "https://localhost:8080/"
        },
        "id": "jo3MTya1JKNR",
        "outputId": "abe9bf09-d148-4aba-a3e7-84b6900c2935"
      },
      "execution_count": 6,
      "outputs": [
        {
          "output_type": "stream",
          "name": "stdout",
          "text": [
            "Enter a number:1\n",
            "The number: 1 you entered is positive!\n"
          ]
        }
      ]
    },
    {
      "cell_type": "markdown",
      "source": [
        "# Topic 2: Iterations\n",
        "* For loop\n",
        "* while loop\n",
        "* Break : Break from the loop\n",
        "* Continue : By pass the all the statement below it and continue with the loop"
      ],
      "metadata": {
        "id": "T9CIAvdsNZHM"
      }
    },
    {
      "cell_type": "code",
      "source": [
        "# interactive loop\n",
        "\n",
        "Flag = True\n",
        "while Flag:\n",
        "  number = int(input(\"Enter a number:\"))\n",
        "\n",
        "  if number > 0 :\n",
        "    print (f'The number: {number} you entered is positive!')\n",
        "  elif number == 0:\n",
        "    print (f'The number: {number} you entered is zero!')\n",
        "    break\n",
        "  else:\n",
        "    print (f'The number: {number} you entered is negative!')\n",
        "    Flag = False"
      ],
      "metadata": {
        "colab": {
          "base_uri": "https://localhost:8080/"
        },
        "id": "yH2aHvg4Nh3J",
        "outputId": "42a904a6-6f6c-4aca-8545-0177d45f043b"
      },
      "execution_count": 8,
      "outputs": [
        {
          "output_type": "stream",
          "name": "stdout",
          "text": [
            "Enter a number:23\n",
            "The number: 23 you entered is positive!\n",
            "Enter a number:1\n",
            "The number: 1 you entered is positive!\n",
            "Enter a number:-1\n",
            "The number: -1 you entered is negative!\n"
          ]
        }
      ]
    },
    {
      "cell_type": "code",
      "source": [
        "# For loop with continue statement\n",
        "\n",
        "\n",
        "products = ['Shirt', 'Pants', 'Jacket']\n",
        "sizes = ['small', 'medium', 'large']\n",
        "\n",
        "for product in products:\n",
        "    if product == 'Shirt':\n",
        "        continue\n",
        "    for size in sizes:\n",
        "        print(product + ' - ' + size)\n",
        ""
      ],
      "metadata": {
        "colab": {
          "base_uri": "https://localhost:8080/"
        },
        "id": "fEBuaDmhO2t9",
        "outputId": "c6bddac3-db77-4958-9700-c71b97962527"
      },
      "execution_count": 18,
      "outputs": [
        {
          "output_type": "stream",
          "name": "stdout",
          "text": [
            "Pants - small\n",
            "Pants - medium\n",
            "Pants - large\n",
            "Jacket - small\n",
            "Jacket - medium\n",
            "Jacket - large\n"
          ]
        }
      ]
    },
    {
      "cell_type": "markdown",
      "source": [
        "# Topic 3 : Functions"
      ],
      "metadata": {
        "id": "_wXilE1qRBgG"
      }
    },
    {
      "cell_type": "code",
      "source": [
        "def num_id(number, msg = 'yes'):\n",
        "  if number > 0 :\n",
        "    print (f'The number: {number} you entered is positive! and message is {msg}')\n",
        "  elif number == 0:\n",
        "    print (f'The number: {number} you entered is zero! and message is {msg}')\n",
        "  else:\n",
        "    print (f'The number: {number} you entered is negative! and message is {msg}')\n",
        "\n",
        "def sum(a,b):\n",
        "  return a+b\n",
        "\n",
        "Flag = True\n",
        "while Flag:\n",
        "  number = int(input(\"Enter a number:\"))\n",
        "  num_id(number, 'No')\n",
        "  #num_id(number)\n",
        "  Flag = input(\"Do you want ot continue:(Y or N)\") == 'Y'\n",
        "  print(sum(1,1))\n",
        "\n",
        ""
      ],
      "metadata": {
        "colab": {
          "base_uri": "https://localhost:8080/"
        },
        "id": "xKh-pZabUO9L",
        "outputId": "f307afa9-64ec-4ebb-f76d-d60dd07f1699"
      },
      "execution_count": 24,
      "outputs": [
        {
          "output_type": "stream",
          "name": "stdout",
          "text": [
            "Enter a number:10\n",
            "The number: 10 you entered is positive! and message is No\n",
            "Do you want ot continue:(Y or N)Y\n",
            "2\n",
            "Enter a number:23\n",
            "The number: 23 you entered is positive! and message is No\n",
            "Do you want ot continue:(Y or N)N\n",
            "2\n"
          ]
        }
      ]
    },
    {
      "cell_type": "markdown",
      "source": [
        "# Topic 4: Classes & Objects\n",
        "\n",
        "Practice a full code from the labs."
      ],
      "metadata": {
        "id": "dVDs8p0oVY24"
      }
    },
    {
      "cell_type": "code",
      "source": [
        "class vehicle:\n",
        "  def __init__(self, make, model):\n",
        "    self.make = make\n",
        "    self.model = model\n",
        "    self.distance_km = 0\n",
        "    self.last_service_km = 0\n",
        "\n",
        "  def add_km(self, distance):\n",
        "    self.distance_km += distance\n",
        "\n",
        "  def service(self):\n",
        "    self.last_service_km = self.distance_km\n",
        "\n",
        "  def total_distance_km(self):\n",
        "    return(self.distance_km)\n",
        "\n",
        "  def km_since_last_service(self):\n",
        "      return self.distance_km - self.last_service\n",
        "\n",
        "  def is_service_reqd(self):\n",
        "      return self.km_since_last_service() > 10,000\n",
        "\n",
        "my_vehicle = vehicle(\"Holden\",\"Captiva\")\n",
        "\n",
        "my_vehicle.add_km(2000)\n",
        "my_vehicle.add_km(3000)\n",
        "\n",
        "Current_distance = my_vehicle.total_distance_km()\n",
        "print(Current_distance)\n"
      ],
      "metadata": {
        "id": "-yDCJiVjJDXT",
        "outputId": "5211e953-7747-4fbc-83bb-a4950ae45a62",
        "colab": {
          "base_uri": "https://localhost:8080/",
          "height": 106
        }
      },
      "execution_count": 30,
      "outputs": [
        {
          "output_type": "error",
          "ename": "SyntaxError",
          "evalue": "expected ':' (<ipython-input-30-2b063d9dbb97>, line 20)",
          "traceback": [
            "\u001b[0;36m  File \u001b[0;32m\"<ipython-input-30-2b063d9dbb97>\"\u001b[0;36m, line \u001b[0;32m20\u001b[0m\n\u001b[0;31m    def is_service_reqd(self)\u001b[0m\n\u001b[0m                             ^\u001b[0m\n\u001b[0;31mSyntaxError\u001b[0m\u001b[0;31m:\u001b[0m expected ':'\n"
          ]
        }
      ]
    },
    {
      "cell_type": "markdown",
      "source": [
        "#Topic 5 : Files"
      ],
      "metadata": {
        "id": "L_igyydSgAFc"
      }
    },
    {
      "cell_type": "code",
      "source": [
        "# writing to a file\n",
        "'''\n",
        "file = open('readme.txt', 'w')\n",
        "file.write(\"my name is Hriddhi\")\n",
        "file.close()\n",
        "'''\n",
        "\n",
        "# Reading a file\n",
        "\n",
        "try:\n",
        "  with open('readme.txt', 'r') as file:\n",
        "    content = file.read()\n",
        "    print(content)\n",
        "except FileNotFoundError as e:\n",
        "  print(f'Error {e}')\n",
        "#finally:\n",
        " # print(\"hello\")\n",
        "\n",
        "\n",
        "#file1.close()"
      ],
      "metadata": {
        "colab": {
          "base_uri": "https://localhost:8080/"
        },
        "id": "p_jkloY-oxIy",
        "outputId": "056aea52-0585-452b-c469-5e1457e6d22b"
      },
      "execution_count": 6,
      "outputs": [
        {
          "output_type": "stream",
          "name": "stdout",
          "text": [
            "my name is Hriddhi\n"
          ]
        }
      ]
    },
    {
      "cell_type": "code",
      "source": [
        "#Score Board - Leader - Top 3\n",
        "\n",
        "#define the class\n",
        "\n",
        "class ScoreEntry:\n",
        "  def __init__(self, name, score):\n",
        "    self.name = name\n",
        "    self.score = score\n",
        "\n",
        "def get_score(score_entry):\n",
        "  return score_entry.score\n",
        "\n",
        "class ScoreBoard:\n",
        "  def __init__(self):\n",
        "    self.scores = []  # Empty list of objects of type ScoreEntry\n",
        "\n",
        "  def add_score(self, name, score):\n",
        "    new_entry = ScoreEntry(name, score) # convert the score into object type ScoreEntry\n",
        "    self.scores.append(new_entry) # Store the onject in the list.\n",
        "\n",
        "  def print_leadership(self):\n",
        "    self.scores.sort(key = get_score, reverse = True)\n",
        "\n",
        "\n",
        "\n",
        "\n",
        "\n"
      ],
      "metadata": {
        "id": "WbEwP6eLOan8"
      },
      "execution_count": null,
      "outputs": []
    },
    {
      "cell_type": "markdown",
      "source": [
        "for rank, entry in enumerate(self.scores[:3], start = 1):\n",
        "How it works: For every item in self.scores, Python calls get_score(item) to retrieve the score, which becomes the basis for sorting.\n",
        "reverse=True:\n",
        "Sorts the list in descending order (highest score first).\n",
        "If reverse=False (default), sorting would be in ascending order.\n",
        "\n"
      ],
      "metadata": {
        "id": "o3U-d3dkfPpO"
      }
    },
    {
      "cell_type": "code",
      "source": [
        "class ScoreEntry:\n",
        "  def __init__(self, name, score):\n",
        "    self.name = name\n",
        "    self.score = score\n",
        "\n",
        "def getscore(scoreentry):\n",
        "  return scoreentry.score\n",
        "\n",
        "class Leaderboard:\n",
        "  def __init__(self):\n",
        "    self.scores = []\n",
        "\n",
        "  def add_entry(self,name, score):\n",
        "    new_entry = ScoreEntry(name, score)\n",
        "    self.scores.append(new_entry)\n",
        "\n",
        "  def leaderboard(self):\n",
        "    self.scores.sort(key = getscore,reverse = True)\n",
        "\n",
        "    for i in self.scores:\n",
        "      print(f\"{i.name}:{i.score}\")\n",
        "\n",
        "    for rank, entry in enumerate(self.scores[:3], start = 1):\n",
        "      print(f\"New: {rank}:{entry.name}:{entry.score}\")\n",
        "\n",
        "  def print_leader_board(self):\n",
        "    for i in self.scores:\n",
        "      print(f\"{i.name}:{i.score}\")\n",
        "\n",
        "Leader = Leaderboard()\n",
        "\n",
        "Leader.add_entry(\"hriddhi\", 20)\n",
        "Leader.add_entry(\"Madhu\", 30)\n",
        "Leader.add_entry(\"Eliana\", 10)\n",
        "Leader.add_entry(\"Arvind\", 40)\n",
        "Leader.add_entry(\"Anu\", 10)\n",
        "\n",
        "Leader.print_leader_board()\n",
        "Leader.leaderboard()"
      ],
      "metadata": {
        "colab": {
          "base_uri": "https://localhost:8080/"
        },
        "id": "I6jbdFoaSQRR",
        "outputId": "aade4dde-7cc0-4156-c959-254a8a6a85ce"
      },
      "execution_count": 19,
      "outputs": [
        {
          "output_type": "stream",
          "name": "stdout",
          "text": [
            "hriddhi:20\n",
            "Madhu:30\n",
            "Eliana:10\n",
            "Arvind:40\n",
            "Anu:10\n",
            "Arvind:40\n",
            "Madhu:30\n",
            "hriddhi:20\n",
            "Eliana:10\n",
            "Anu:10\n",
            "New: 1:Arvind:40\n",
            "New: 2:Madhu:30\n",
            "New: 3:hriddhi:20\n"
          ]
        }
      ]
    },
    {
      "cell_type": "markdown",
      "source": [
        ".items()\n",
        "What does .items() do?\n",
        "The .items() method returns all key-value pairs in the dictionary as tuples.\n",
        "Example for the above self.chore_dict"
      ],
      "metadata": {
        "id": "njgtw5W3fIc4"
      }
    },
    {
      "cell_type": "code",
      "source": [
        "#Chore Tracker\n",
        "\n",
        "class ChoreTracker:\n",
        "  def __init__(self):\n",
        "    self.chore_dict = {} # a dictionary\n",
        "\n",
        "  def add_chores(self, chore, hour):\n",
        "    if chore in self.chore_dict:\n",
        "      self.chore_dict[chore] += hour\n",
        "    else:\n",
        "      self.chore_dict[chore] = hour\n",
        "\n",
        "  def print_summary(self):\n",
        "    total_hours = 0.0\n",
        "\n",
        "    for chore_name, hours in self.chore_dict.items():\n",
        "      print(f\"{chore_name}: {hours: .2f} hours\")\n",
        "      total_hours +=hours\n",
        "\n",
        "    print(total_hours)\n",
        "\n",
        "Tracker = ChoreTracker()\n",
        "\n",
        "Tracker.add_chores(\"Garending\",2.3)\n",
        "Tracker.add_chores(\"Cleaning\",3)\n",
        "Tracker.add_chores(\"Cooking\",1)\n",
        "Tracker.add_chores(\"Cooking\",3)\n",
        "\n",
        "Tracker.print_summary()\n",
        "\n"
      ],
      "metadata": {
        "colab": {
          "base_uri": "https://localhost:8080/"
        },
        "id": "K4kwE1CIaDWv",
        "outputId": "9992cb47-bc21-46df-ca46-0c70e23dd022"
      },
      "execution_count": 28,
      "outputs": [
        {
          "output_type": "stream",
          "name": "stdout",
          "text": [
            "Garending:  2.30 hours\n",
            "Cleaning:  3.00 hours\n",
            "Cooking:  4.00 hours\n",
            "9.3\n"
          ]
        }
      ]
    },
    {
      "cell_type": "code",
      "source": [
        "import pandas as pd\n",
        "\n",
        "URL = 'https://gist.githubusercontent.com/anibali/c2abc8cab4a2f7b0a6518d11a67c693c/raw/3b1bb5264736bb762584104c9e7a828bef0f6ec8/penguins.csv'\n",
        "\n",
        "df = pd.read_csv(URL)\n",
        "\n",
        "df.head()\n",
        "#print(df.columns)\n",
        "\n",
        "#df['species'].unique()\n",
        "\n",
        "df.groupby('species')[df.select_dtypes(include = 'number').columns].mean()\n",
        "#df.describe()\n",
        "\n",
        "#df.groupby('species')[df.select_dtypes(include='number').columns].mean()\n"
      ],
      "metadata": {
        "colab": {
          "base_uri": "https://localhost:8080/",
          "height": 174
        },
        "id": "1_gTySyri3GV",
        "outputId": "94eb1d59-1f7f-40c9-80fd-be1b819b1b71"
      },
      "execution_count": 11,
      "outputs": [
        {
          "output_type": "execute_result",
          "data": {
            "text/plain": [
              "           bill_length_mm  bill_depth_mm  flipper_length_mm  body_mass_g\n",
              "species                                                                 \n",
              "Adelie          38.823973      18.347260         190.102740  3706.164384\n",
              "Chinstrap       48.833824      18.420588         195.823529  3733.088235\n",
              "Gentoo          47.568067      14.996639         217.235294  5092.436975"
            ],
            "text/html": [
              "\n",
              "  <div id=\"df-1d916aae-c098-4ab7-852e-91a68e8e956c\" class=\"colab-df-container\">\n",
              "    <div>\n",
              "<style scoped>\n",
              "    .dataframe tbody tr th:only-of-type {\n",
              "        vertical-align: middle;\n",
              "    }\n",
              "\n",
              "    .dataframe tbody tr th {\n",
              "        vertical-align: top;\n",
              "    }\n",
              "\n",
              "    .dataframe thead th {\n",
              "        text-align: right;\n",
              "    }\n",
              "</style>\n",
              "<table border=\"1\" class=\"dataframe\">\n",
              "  <thead>\n",
              "    <tr style=\"text-align: right;\">\n",
              "      <th></th>\n",
              "      <th>bill_length_mm</th>\n",
              "      <th>bill_depth_mm</th>\n",
              "      <th>flipper_length_mm</th>\n",
              "      <th>body_mass_g</th>\n",
              "    </tr>\n",
              "    <tr>\n",
              "      <th>species</th>\n",
              "      <th></th>\n",
              "      <th></th>\n",
              "      <th></th>\n",
              "      <th></th>\n",
              "    </tr>\n",
              "  </thead>\n",
              "  <tbody>\n",
              "    <tr>\n",
              "      <th>Adelie</th>\n",
              "      <td>38.823973</td>\n",
              "      <td>18.347260</td>\n",
              "      <td>190.102740</td>\n",
              "      <td>3706.164384</td>\n",
              "    </tr>\n",
              "    <tr>\n",
              "      <th>Chinstrap</th>\n",
              "      <td>48.833824</td>\n",
              "      <td>18.420588</td>\n",
              "      <td>195.823529</td>\n",
              "      <td>3733.088235</td>\n",
              "    </tr>\n",
              "    <tr>\n",
              "      <th>Gentoo</th>\n",
              "      <td>47.568067</td>\n",
              "      <td>14.996639</td>\n",
              "      <td>217.235294</td>\n",
              "      <td>5092.436975</td>\n",
              "    </tr>\n",
              "  </tbody>\n",
              "</table>\n",
              "</div>\n",
              "    <div class=\"colab-df-buttons\">\n",
              "\n",
              "  <div class=\"colab-df-container\">\n",
              "    <button class=\"colab-df-convert\" onclick=\"convertToInteractive('df-1d916aae-c098-4ab7-852e-91a68e8e956c')\"\n",
              "            title=\"Convert this dataframe to an interactive table.\"\n",
              "            style=\"display:none;\">\n",
              "\n",
              "  <svg xmlns=\"http://www.w3.org/2000/svg\" height=\"24px\" viewBox=\"0 -960 960 960\">\n",
              "    <path d=\"M120-120v-720h720v720H120Zm60-500h600v-160H180v160Zm220 220h160v-160H400v160Zm0 220h160v-160H400v160ZM180-400h160v-160H180v160Zm440 0h160v-160H620v160ZM180-180h160v-160H180v160Zm440 0h160v-160H620v160Z\"/>\n",
              "  </svg>\n",
              "    </button>\n",
              "\n",
              "  <style>\n",
              "    .colab-df-container {\n",
              "      display:flex;\n",
              "      gap: 12px;\n",
              "    }\n",
              "\n",
              "    .colab-df-convert {\n",
              "      background-color: #E8F0FE;\n",
              "      border: none;\n",
              "      border-radius: 50%;\n",
              "      cursor: pointer;\n",
              "      display: none;\n",
              "      fill: #1967D2;\n",
              "      height: 32px;\n",
              "      padding: 0 0 0 0;\n",
              "      width: 32px;\n",
              "    }\n",
              "\n",
              "    .colab-df-convert:hover {\n",
              "      background-color: #E2EBFA;\n",
              "      box-shadow: 0px 1px 2px rgba(60, 64, 67, 0.3), 0px 1px 3px 1px rgba(60, 64, 67, 0.15);\n",
              "      fill: #174EA6;\n",
              "    }\n",
              "\n",
              "    .colab-df-buttons div {\n",
              "      margin-bottom: 4px;\n",
              "    }\n",
              "\n",
              "    [theme=dark] .colab-df-convert {\n",
              "      background-color: #3B4455;\n",
              "      fill: #D2E3FC;\n",
              "    }\n",
              "\n",
              "    [theme=dark] .colab-df-convert:hover {\n",
              "      background-color: #434B5C;\n",
              "      box-shadow: 0px 1px 3px 1px rgba(0, 0, 0, 0.15);\n",
              "      filter: drop-shadow(0px 1px 2px rgba(0, 0, 0, 0.3));\n",
              "      fill: #FFFFFF;\n",
              "    }\n",
              "  </style>\n",
              "\n",
              "    <script>\n",
              "      const buttonEl =\n",
              "        document.querySelector('#df-1d916aae-c098-4ab7-852e-91a68e8e956c button.colab-df-convert');\n",
              "      buttonEl.style.display =\n",
              "        google.colab.kernel.accessAllowed ? 'block' : 'none';\n",
              "\n",
              "      async function convertToInteractive(key) {\n",
              "        const element = document.querySelector('#df-1d916aae-c098-4ab7-852e-91a68e8e956c');\n",
              "        const dataTable =\n",
              "          await google.colab.kernel.invokeFunction('convertToInteractive',\n",
              "                                                    [key], {});\n",
              "        if (!dataTable) return;\n",
              "\n",
              "        const docLinkHtml = 'Like what you see? Visit the ' +\n",
              "          '<a target=\"_blank\" href=https://colab.research.google.com/notebooks/data_table.ipynb>data table notebook</a>'\n",
              "          + ' to learn more about interactive tables.';\n",
              "        element.innerHTML = '';\n",
              "        dataTable['output_type'] = 'display_data';\n",
              "        await google.colab.output.renderOutput(dataTable, element);\n",
              "        const docLink = document.createElement('div');\n",
              "        docLink.innerHTML = docLinkHtml;\n",
              "        element.appendChild(docLink);\n",
              "      }\n",
              "    </script>\n",
              "  </div>\n",
              "\n",
              "\n",
              "<div id=\"df-49ca5e43-eddb-4519-b435-81f7f144d334\">\n",
              "  <button class=\"colab-df-quickchart\" onclick=\"quickchart('df-49ca5e43-eddb-4519-b435-81f7f144d334')\"\n",
              "            title=\"Suggest charts\"\n",
              "            style=\"display:none;\">\n",
              "\n",
              "<svg xmlns=\"http://www.w3.org/2000/svg\" height=\"24px\"viewBox=\"0 0 24 24\"\n",
              "     width=\"24px\">\n",
              "    <g>\n",
              "        <path d=\"M19 3H5c-1.1 0-2 .9-2 2v14c0 1.1.9 2 2 2h14c1.1 0 2-.9 2-2V5c0-1.1-.9-2-2-2zM9 17H7v-7h2v7zm4 0h-2V7h2v10zm4 0h-2v-4h2v4z\"/>\n",
              "    </g>\n",
              "</svg>\n",
              "  </button>\n",
              "\n",
              "<style>\n",
              "  .colab-df-quickchart {\n",
              "      --bg-color: #E8F0FE;\n",
              "      --fill-color: #1967D2;\n",
              "      --hover-bg-color: #E2EBFA;\n",
              "      --hover-fill-color: #174EA6;\n",
              "      --disabled-fill-color: #AAA;\n",
              "      --disabled-bg-color: #DDD;\n",
              "  }\n",
              "\n",
              "  [theme=dark] .colab-df-quickchart {\n",
              "      --bg-color: #3B4455;\n",
              "      --fill-color: #D2E3FC;\n",
              "      --hover-bg-color: #434B5C;\n",
              "      --hover-fill-color: #FFFFFF;\n",
              "      --disabled-bg-color: #3B4455;\n",
              "      --disabled-fill-color: #666;\n",
              "  }\n",
              "\n",
              "  .colab-df-quickchart {\n",
              "    background-color: var(--bg-color);\n",
              "    border: none;\n",
              "    border-radius: 50%;\n",
              "    cursor: pointer;\n",
              "    display: none;\n",
              "    fill: var(--fill-color);\n",
              "    height: 32px;\n",
              "    padding: 0;\n",
              "    width: 32px;\n",
              "  }\n",
              "\n",
              "  .colab-df-quickchart:hover {\n",
              "    background-color: var(--hover-bg-color);\n",
              "    box-shadow: 0 1px 2px rgba(60, 64, 67, 0.3), 0 1px 3px 1px rgba(60, 64, 67, 0.15);\n",
              "    fill: var(--button-hover-fill-color);\n",
              "  }\n",
              "\n",
              "  .colab-df-quickchart-complete:disabled,\n",
              "  .colab-df-quickchart-complete:disabled:hover {\n",
              "    background-color: var(--disabled-bg-color);\n",
              "    fill: var(--disabled-fill-color);\n",
              "    box-shadow: none;\n",
              "  }\n",
              "\n",
              "  .colab-df-spinner {\n",
              "    border: 2px solid var(--fill-color);\n",
              "    border-color: transparent;\n",
              "    border-bottom-color: var(--fill-color);\n",
              "    animation:\n",
              "      spin 1s steps(1) infinite;\n",
              "  }\n",
              "\n",
              "  @keyframes spin {\n",
              "    0% {\n",
              "      border-color: transparent;\n",
              "      border-bottom-color: var(--fill-color);\n",
              "      border-left-color: var(--fill-color);\n",
              "    }\n",
              "    20% {\n",
              "      border-color: transparent;\n",
              "      border-left-color: var(--fill-color);\n",
              "      border-top-color: var(--fill-color);\n",
              "    }\n",
              "    30% {\n",
              "      border-color: transparent;\n",
              "      border-left-color: var(--fill-color);\n",
              "      border-top-color: var(--fill-color);\n",
              "      border-right-color: var(--fill-color);\n",
              "    }\n",
              "    40% {\n",
              "      border-color: transparent;\n",
              "      border-right-color: var(--fill-color);\n",
              "      border-top-color: var(--fill-color);\n",
              "    }\n",
              "    60% {\n",
              "      border-color: transparent;\n",
              "      border-right-color: var(--fill-color);\n",
              "    }\n",
              "    80% {\n",
              "      border-color: transparent;\n",
              "      border-right-color: var(--fill-color);\n",
              "      border-bottom-color: var(--fill-color);\n",
              "    }\n",
              "    90% {\n",
              "      border-color: transparent;\n",
              "      border-bottom-color: var(--fill-color);\n",
              "    }\n",
              "  }\n",
              "</style>\n",
              "\n",
              "  <script>\n",
              "    async function quickchart(key) {\n",
              "      const quickchartButtonEl =\n",
              "        document.querySelector('#' + key + ' button');\n",
              "      quickchartButtonEl.disabled = true;  // To prevent multiple clicks.\n",
              "      quickchartButtonEl.classList.add('colab-df-spinner');\n",
              "      try {\n",
              "        const charts = await google.colab.kernel.invokeFunction(\n",
              "            'suggestCharts', [key], {});\n",
              "      } catch (error) {\n",
              "        console.error('Error during call to suggestCharts:', error);\n",
              "      }\n",
              "      quickchartButtonEl.classList.remove('colab-df-spinner');\n",
              "      quickchartButtonEl.classList.add('colab-df-quickchart-complete');\n",
              "    }\n",
              "    (() => {\n",
              "      let quickchartButtonEl =\n",
              "        document.querySelector('#df-49ca5e43-eddb-4519-b435-81f7f144d334 button');\n",
              "      quickchartButtonEl.style.display =\n",
              "        google.colab.kernel.accessAllowed ? 'block' : 'none';\n",
              "    })();\n",
              "  </script>\n",
              "</div>\n",
              "\n",
              "    </div>\n",
              "  </div>\n"
            ],
            "application/vnd.google.colaboratory.intrinsic+json": {
              "type": "dataframe",
              "summary": "{\n  \"name\": \"#df\",\n  \"rows\": 3,\n  \"fields\": [\n    {\n      \"column\": \"species\",\n      \"properties\": {\n        \"dtype\": \"string\",\n        \"num_unique_values\": 3,\n        \"samples\": [\n          \"Adelie\",\n          \"Chinstrap\",\n          \"Gentoo\"\n        ],\n        \"semantic_type\": \"\",\n        \"description\": \"\"\n      }\n    },\n    {\n      \"column\": \"bill_length_mm\",\n      \"properties\": {\n        \"dtype\": \"number\",\n        \"std\": 5.450664262082735,\n        \"min\": 38.82397260273973,\n        \"max\": 48.83382352941176,\n        \"num_unique_values\": 3,\n        \"samples\": [\n          38.82397260273973,\n          48.83382352941176,\n          47.56806722689076\n        ],\n        \"semantic_type\": \"\",\n        \"description\": \"\"\n      }\n    },\n    {\n      \"column\": \"bill_depth_mm\",\n      \"properties\": {\n        \"dtype\": \"number\",\n        \"std\": 1.9559939053062931,\n        \"min\": 14.996638655462185,\n        \"max\": 18.420588235294115,\n        \"num_unique_values\": 3,\n        \"samples\": [\n          18.3472602739726,\n          18.420588235294115,\n          14.996638655462185\n        ],\n        \"semantic_type\": \"\",\n        \"description\": \"\"\n      }\n    },\n    {\n      \"column\": \"flipper_length_mm\",\n      \"properties\": {\n        \"dtype\": \"number\",\n        \"std\": 14.302485857725967,\n        \"min\": 190.1027397260274,\n        \"max\": 217.23529411764707,\n        \"num_unique_values\": 3,\n        \"samples\": [\n          190.1027397260274,\n          195.8235294117647,\n          217.23529411764707\n        ],\n        \"semantic_type\": \"\",\n        \"description\": \"\"\n      }\n    },\n    {\n      \"column\": \"body_mass_g\",\n      \"properties\": {\n        \"dtype\": \"number\",\n        \"std\": 792.7069221504754,\n        \"min\": 3706.1643835616437,\n        \"max\": 5092.436974789916,\n        \"num_unique_values\": 3,\n        \"samples\": [\n          3706.1643835616437,\n          3733.0882352941176,\n          5092.436974789916\n        ],\n        \"semantic_type\": \"\",\n        \"description\": \"\"\n      }\n    }\n  ]\n}"
            }
          },
          "metadata": {},
          "execution_count": 11
        }
      ]
    },
    {
      "cell_type": "code",
      "source": [
        "import matplotlib.pyplot as plt\n",
        "\n",
        "df_Adelie = df[df['species'] == 'Adelie']\n",
        "df_Chinstrap = df[df['species'] == 'Chinstrap']\n",
        "df_Gentoo = df[df['species'] == 'Gentoo']\n",
        "#df_Adelie.head()\n",
        "\n",
        "plt.figure(figsize = (10,16))\n",
        "\n",
        "fig, ax = plt.subplots()\n",
        "ax.set_title(\"Scatter Plot\")\n",
        "ax.set_xlabel(\"bill_length_mm\")\n",
        "ax.set_ylabel(\"body_mass_gm\")\n",
        "ax.scatter(df_Adelie['body_mass_g'], df_Adelie['bill_length_mm'], label = 'Adelie', marker = 'o')\n",
        "ax.scatter(df_Chinstrap['body_mass_g'], df_Chinstrap['bill_length_mm'], label = 'Chinstrap', marker = 'o')\n",
        "ax.legend()\n",
        "\n",
        "plt.show()\n"
      ],
      "metadata": {
        "colab": {
          "base_uri": "https://localhost:8080/",
          "height": 489
        },
        "id": "uHRaO2-fKnsT",
        "outputId": "6a547404-3e0d-41f7-c843-d04f9e97a933"
      },
      "execution_count": 33,
      "outputs": [
        {
          "output_type": "display_data",
          "data": {
            "text/plain": [
              "<Figure size 1000x1600 with 0 Axes>"
            ]
          },
          "metadata": {}
        },
        {
          "output_type": "display_data",
          "data": {
            "text/plain": [
              "<Figure size 640x480 with 1 Axes>"
            ],
            "image/png": "[encoded data removed]"
          },
          "metadata": {}
        }
      ]
    },
    {
      "cell_type": "code",
      "source": [
        "import pandas as pd\n",
        "import matplotlib.pyplot as plt\n",
        "\n",
        "URL = 'https://gist.githubusercontent.com/anibali/c2abc8cab4a2f7b0a6518d11a67c693c/raw/3b1bb5264736bb762584104c9e7a828bef0f6ec8/penguins.csv'\n",
        "\n",
        "df = pd.read_csv(URL)\n",
        "\n",
        "df['species'].unique() # 'Adelie', 'Chinstrap', 'Gentoo'\n",
        "#print(df.head())\n",
        "df['bill_proportion'] = df[\"bill_length_mm\"]/ df[\"body_mass_g\"]\n",
        "\n",
        "print(df.head())\n",
        "df.groupby('species')[df.select_dtypes(include = 'number').columns].mean()\n",
        "df.describe()\n",
        "\n",
        "df_adelie = df[df['species'] == \"Adelie\"]\n",
        "df_chinstrap = df[df['species'] == \"Chinstrap\"]\n",
        "df_gentoo = df[df['species'] == \"Gentoo\"]\n",
        "\n",
        "fig, ax = plt.subplots(figsize = (10,6))\n",
        "\n",
        "ax.set_title(\"Scatter plot\")\n",
        "ax.set_xlabel(\"bill_length_mm\")\n",
        "ax.set_ylabel(\"body_mass_gm\")\n",
        "\n",
        "ax.scatter(df_adelie[\"bill_length_mm\"], df_adelie[\"bill_proportion\"], label = \"adelie\", marker = \"o\")\n",
        "ax.scatter(df_chinstrap[\"bill_length_mm\"], df_chinstrap[\"bill_proportion\"], label = \"chinstrap\", marker = \"o\")\n",
        "ax.scatter(df_gentoo[\"bill_length_mm\"], df_gentoo[\"bill_proportion\"], label = \"gentoo\", marker = \"o\")\n",
        "\n",
        "plt.legend()\n",
        "plt.show()\n",
        "\n",
        "\n"
      ],
      "metadata": {
        "id": "gsqIyW6FSS30",
        "outputId": "3f1d89a9-a86c-4f6d-c5eb-05272b5b2a85",
        "colab": {
          "base_uri": "https://localhost:8080/",
          "height": 790
        }
      },
      "execution_count": 67,
      "outputs": [
        {
          "output_type": "stream",
          "name": "stdout",
          "text": [
            "  species     island  bill_length_mm  bill_depth_mm  flipper_length_mm  \\\n",
            "0  Adelie  Torgersen            39.1           18.7              181.0   \n",
            "1  Adelie  Torgersen            39.5           17.4              186.0   \n",
            "2  Adelie  Torgersen            40.3           18.0              195.0   \n",
            "3  Adelie  Torgersen            36.7           19.3              193.0   \n",
            "4  Adelie  Torgersen            39.3           20.6              190.0   \n",
            "\n",
            "   body_mass_g     sex  bill_proportion  \n",
            "0       3750.0    MALE         0.010427  \n",
            "1       3800.0  FEMALE         0.010395  \n",
            "2       3250.0  FEMALE         0.012400  \n",
            "3       3450.0  FEMALE         0.010638  \n",
            "4       3650.0    MALE         0.010767  \n"
          ]
        },
        {
          "output_type": "display_data",
          "data": {
            "text/plain": [
              "<Figure size 1000x600 with 1 Axes>"
            ],
            "image/png": "[encoded data removed]"
          },
          "metadata": {}
        }
      ]
    },
    {
      "cell_type": "code",
      "source": [
        "value = int(input(\"Enter non zero positive number:\"))\n",
        "\n",
        "try:\n",
        " #if value < 0:\n",
        "  #raise ValueError('value should be > 0')\n",
        " #else:\n",
        "  #print(value)\n",
        "  p = 1/value\n",
        "  print(p)\n",
        "except ValueError:\n",
        "  print(\"you entered <0 value\")\n",
        "\n",
        "except ZeroDivisionError:\n",
        "  print(\"please enter value > 0\")\n",
        "\n",
        "\n"
      ],
      "metadata": {
        "id": "bmGrCwjG6khv",
        "outputId": "2d325017-ab26-4a9e-8a29-4da72d4d3f7c",
        "colab": {
          "base_uri": "https://localhost:8080/"
        }
      },
      "execution_count": 9,
      "outputs": [
        {
          "output_type": "stream",
          "name": "stdout",
          "text": [
            "Enter non zero positive number:0\n",
            "please enter value > 0\n"
          ]
        }
      ]
    },
    {
      "cell_type": "code",
      "source": [
        "try:\n",
        "    with open(\"nonexistent_file.txt\", \"r\") as file:\n",
        "        content = file.read()\n",
        "except FileNotFoundError:\n",
        "    print(\"Error: The file was not found. Please check the file path.\")"
      ],
      "metadata": {
        "id": "VmG5fSO9-T7t"
      },
      "execution_count": null,
      "outputs": []
    },
    {
      "cell_type": "code",
      "source": [
        "try:\n",
        "  with open(\"hriddhi.txt\", \"w\") as file:\n",
        "    file.write(\"\\n hi how are you \\n \")\n",
        "    file.write(\"hriddhi is fine\")\n",
        "except FileNotFoundError:\n",
        "  print(\"Error: the file was not found\")\n"
      ],
      "metadata": {
        "id": "V-aD0MYBByVJ"
      },
      "execution_count": 22,
      "outputs": []
    },
    {
      "cell_type": "code",
      "source": [
        "try:\n",
        "  with open(\"hriddhi.txt\",\"r\") as file1:\n",
        "    for line in file1:\n",
        "      print(line.strip())\n",
        "except:\n",
        "  print(\"Error: The file was not found\")\n"
      ],
      "metadata": {
        "id": "VYHZyUL_CHZW",
        "outputId": "327b209f-e381-42ee-ee7a-55c2f93dd03e",
        "colab": {
          "base_uri": "https://localhost:8080/"
        }
      },
      "execution_count": 25,
      "outputs": [
        {
          "output_type": "stream",
          "name": "stdout",
          "text": [
            "\n",
            "hi how are you\n",
            "hriddhi is fine\n"
          ]
        }
      ]
    },
    {
      "cell_type": "code",
      "source": [
        "import pandas as pd\n",
        "import matplotlib.pyplot as plt\n",
        "\n",
        "\n",
        "URL = 'https://gist.githubusercontent.com/anibali/c2abc8cab4a2f7b0a6518d11a67c693c/raw/3b1bb5264736bb762584104c9e7a828bef0f6ec8/penguins.csv'\n",
        "\n",
        "df = pd.read_csv(URL)\n",
        "\n",
        "df.head()\n",
        "\n",
        "df.describe()\n",
        "#print(df.describe())\n",
        "\n",
        "print(df[\"species\"].unique())\n",
        "\n",
        "df.groupby(\"species\")[df.select_dtypes(include = \"number\").columns].mean()\n",
        "\n",
        "#df.groupby(\"species\")[df.select_dtypes(include = \"number\").columns].mean()\n",
        "#'Adelie' 'Chinstrap' 'Gentoo'\n",
        "\n",
        "df_gentoo = df[df[\"species\"] == \"Gentoo\"]\n",
        "\n",
        "fig, ax = plt.subplots( figure = (10,6))\n",
        "\n",
        "ax.set_title(\"scatter plot\")\n",
        "ax.set_xlabel(\"bill_depth_mm\")\n",
        "ax.set_ylabel(\"bill_length_mm\")\n",
        "\n",
        "ax.scatter(df_gentoo.bill_depth_mm,df_gentoo.bill_length_mm, label = \"gentoo\", marker = \"o\")\n",
        "plt.legend()\n",
        "plt.show()\n",
        "\n"
      ],
      "metadata": {
        "id": "lSpWJ87RUVdG",
        "outputId": "0a2a5cfb-1502-4f6d-de89-17be3f7834e0",
        "colab": {
          "base_uri": "https://localhost:8080/",
          "height": 489
        }
      },
      "execution_count": 54,
      "outputs": [
        {
          "output_type": "stream",
          "name": "stdout",
          "text": [
            "['Adelie' 'Chinstrap' 'Gentoo']\n"
          ]
        },
        {
          "output_type": "display_data",
          "data": {
            "text/plain": [
              "<Figure size 640x480 with 1 Axes>"
            ],
            "image/png": "[encoded data removed]"
          },
          "metadata": {}
        }
      ]
    }
  ]
}